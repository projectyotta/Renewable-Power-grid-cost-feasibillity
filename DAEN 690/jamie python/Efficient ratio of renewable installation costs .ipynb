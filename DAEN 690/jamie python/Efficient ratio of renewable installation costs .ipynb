{
 "cells": [
  {
   "cell_type": "code",
   "execution_count": 1,
   "metadata": {},
   "outputs": [],
   "source": [
    "# Efficient ratio of renewable installation costs \n",
    "import math"
   ]
  },
  {
   "cell_type": "code",
   "execution_count": 2,
   "metadata": {},
   "outputs": [],
   "source": [
    "# Wind\n",
    "# Energy = 1.93 * V^3  * R^2 * Cp  in (KW)\n",
    "def wind(velocity,radius):\n",
    "    \n",
    "    w_k = 1.93 \n",
    "    w_velocity = velocity #3.38 # average windspeed in the US \n",
    "    w_radius = radius #35.3568\n",
    "    w_cp = 0.35 \n",
    "    w_installationcost = 65000 \n",
    "    \n",
    "    w_energy = (w_k * (pow(w_velocity,3)) * (pow(w_radius,2)) * w_cp )/ 1000\n",
    "    w_cost = w_energy/w_installationcost\n",
    "    \n",
    "    return w_energy , w_cost"
   ]
  },
  {
   "cell_type": "code",
   "execution_count": 3,
   "metadata": {},
   "outputs": [],
   "source": [
    "# Solar \n",
    "# E = 1367 * R^2 * Kt * Cp\n",
    "def solar(radius):\n",
    "    s_k = 1367\n",
    "    s_kt = 0.52 #Average solar index in the US\n",
    "    s_radius = 5\n",
    "    s_cp = 0.29\n",
    "    s_installationcost = 35000\n",
    "\n",
    "    s_energy = (s_k * (pow(s_radius,2)) * s_kt * s_cp ) / 1000 \n",
    "    s_cost = s_energy / s_installationcost\n",
    "    \n",
    "    return s_energy,s_cost"
   ]
  },
  {
   "cell_type": "code",
   "execution_count": 4,
   "metadata": {},
   "outputs": [
    {
     "ename": "NameError",
     "evalue": "name 'w_installationcost' is not defined",
     "output_type": "error",
     "traceback": [
      "\u001b[1;31m---------------------------------------------------------------------------\u001b[0m",
      "\u001b[1;31mNameError\u001b[0m                                 Traceback (most recent call last)",
      "\u001b[1;32m<ipython-input-4-beb702e070d7>\u001b[0m in \u001b[0;36m<module>\u001b[1;34m()\u001b[0m\n\u001b[0;32m      1\u001b[0m \u001b[1;31m# Ratios\u001b[0m\u001b[1;33m\u001b[0m\u001b[1;33m\u001b[0m\u001b[0m\n\u001b[1;32m----> 2\u001b[1;33m \u001b[0minstallationcostratio\u001b[0m \u001b[1;33m=\u001b[0m \u001b[0mw_installationcost\u001b[0m \u001b[1;33m/\u001b[0m \u001b[0ms_installationcost\u001b[0m\u001b[1;33m\u001b[0m\u001b[0m\n\u001b[0m\u001b[0;32m      3\u001b[0m \u001b[0mcostratio\u001b[0m \u001b[1;33m=\u001b[0m \u001b[0mw_cost\u001b[0m \u001b[1;33m/\u001b[0m \u001b[0ms_cost\u001b[0m\u001b[1;33m\u001b[0m\u001b[0m\n\u001b[0;32m      4\u001b[0m \u001b[0minstallationtocostratioratio\u001b[0m \u001b[1;33m=\u001b[0m \u001b[0minstallationcostratio\u001b[0m \u001b[1;33m/\u001b[0m \u001b[0mcostratio\u001b[0m\u001b[1;33m\u001b[0m\u001b[0m\n",
      "\u001b[1;31mNameError\u001b[0m: name 'w_installationcost' is not defined"
     ]
    }
   ],
   "source": [
    "# Ratios \n",
    "installationcostratio = w_installationcost / s_installationcost\n",
    "costratio = w_cost / s_cost \n",
    "installationtocostratioratio = installationcostratio / costratio "
   ]
  },
  {
   "cell_type": "code",
   "execution_count": 5,
   "metadata": {},
   "outputs": [
    {
     "name": "stdout",
     "output_type": "stream",
     "text": [
      "(72.3886065, 0.0011136708692307692)\n",
      "(5.1535899999999994, 0.00014724542857142857)\n"
     ]
    }
   ],
   "source": [
    "# to get energy and cost for solar or for wind , call the function with parameters \n",
    "# For example \n",
    "print(wind(3,63))\n",
    "print(solar(5))\n",
    "# Then , for any combination of these outputs , get the ratios "
   ]
  },
  {
   "cell_type": "code",
   "execution_count": 9,
   "metadata": {},
   "outputs": [
    {
     "data": {
      "text/plain": [
       "0.16363636363636364"
      ]
     },
     "execution_count": 9,
     "metadata": {},
     "output_type": "execute_result"
    }
   ],
   "source": []
  }
 ],
 "metadata": {
  "kernelspec": {
   "display_name": "Python 3",
   "language": "python",
   "name": "python3"
  },
  "language_info": {
   "codemirror_mode": {
    "name": "ipython",
    "version": 3
   },
   "file_extension": ".py",
   "mimetype": "text/x-python",
   "name": "python",
   "nbconvert_exporter": "python",
   "pygments_lexer": "ipython3",
   "version": "3.6.3"
  }
 },
 "nbformat": 4,
 "nbformat_minor": 2
}
