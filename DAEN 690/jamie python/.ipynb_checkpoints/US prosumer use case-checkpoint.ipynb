{
 "cells": [
  {
   "cell_type": "code",
   "execution_count": 122,
   "metadata": {
    "collapsed": true
   },
   "outputs": [],
   "source": [
    "import pandas as pd \n",
    "import numpy as np"
   ]
  },
  {
   "cell_type": "code",
   "execution_count": 123,
   "metadata": {},
   "outputs": [
    {
     "data": {
      "text/html": [
       "<div>\n",
       "<style>\n",
       "    .dataframe thead tr:only-child th {\n",
       "        text-align: right;\n",
       "    }\n",
       "\n",
       "    .dataframe thead th {\n",
       "        text-align: left;\n",
       "    }\n",
       "\n",
       "    .dataframe tbody tr th {\n",
       "        vertical-align: top;\n",
       "    }\n",
       "</style>\n",
       "<table border=\"1\" class=\"dataframe\">\n",
       "  <thead>\n",
       "    <tr style=\"text-align: right;\">\n",
       "      <th></th>\n",
       "      <th>SETTLEMENTDATE</th>\n",
       "      <th>TOTALDEMAND</th>\n",
       "      <th>RRP</th>\n",
       "      <th>Usage</th>\n",
       "    </tr>\n",
       "  </thead>\n",
       "  <tbody>\n",
       "    <tr>\n",
       "      <th>0</th>\n",
       "      <td>7/1/2016 0:30</td>\n",
       "      <td>1534.71</td>\n",
       "      <td>125.3</td>\n",
       "      <td>0.000117</td>\n",
       "    </tr>\n",
       "    <tr>\n",
       "      <th>1</th>\n",
       "      <td>7/1/2016 1:00</td>\n",
       "      <td>1415.01</td>\n",
       "      <td>127.9</td>\n",
       "      <td>0.000105</td>\n",
       "    </tr>\n",
       "    <tr>\n",
       "      <th>2</th>\n",
       "      <td>7/1/2016 1:30</td>\n",
       "      <td>1308.47</td>\n",
       "      <td>127.3</td>\n",
       "      <td>0.000102</td>\n",
       "    </tr>\n",
       "    <tr>\n",
       "      <th>3</th>\n",
       "      <td>7/1/2016 2:00</td>\n",
       "      <td>1233.06</td>\n",
       "      <td>127.1</td>\n",
       "      <td>0.000100</td>\n",
       "    </tr>\n",
       "    <tr>\n",
       "      <th>4</th>\n",
       "      <td>7/1/2016 2:30</td>\n",
       "      <td>1152.85</td>\n",
       "      <td>128.2</td>\n",
       "      <td>0.000099</td>\n",
       "    </tr>\n",
       "  </tbody>\n",
       "</table>\n",
       "</div>"
      ],
      "text/plain": [
       "  SETTLEMENTDATE  TOTALDEMAND    RRP     Usage\n",
       "0  7/1/2016 0:30      1534.71  125.3  0.000117\n",
       "1  7/1/2016 1:00      1415.01  127.9  0.000105\n",
       "2  7/1/2016 1:30      1308.47  127.3  0.000102\n",
       "3  7/1/2016 2:00      1233.06  127.1  0.000100\n",
       "4  7/1/2016 2:30      1152.85  128.2  0.000099"
      ]
     },
     "execution_count": 123,
     "metadata": {},
     "output_type": "execute_result"
    }
   ],
   "source": [
    "# read the raw data to see what it looks like \n",
    "df = pd.read_csv('wow.csv')\n",
    "df.head()"
   ]
  },
  {
   "cell_type": "code",
   "execution_count": 124,
   "metadata": {
    "collapsed": true
   },
   "outputs": [],
   "source": [
    "# Assumptions\t\t\t\n",
    "# Conservatively use US consumption amounts \t2x UK\t\t\n",
    "# Conservatively use minimum electricity tariff\t\t\t\n",
    "# Daily consumption remains constant year round on average\t(seasonal variation is captured in the modelling completed to deliver the daily consumption profile)\t\t\n",
    "# Emergent Market price cap is the domestic solar feed in tariff value\tgovernment calculated this is value to make it worthwhile for prosumer to buy system\t\t\n",
    "# Household will always have stored energy to sell into the grid when prices are high\t\t\t\n",
    "\t\t\t\n",
    "# Electricity Prices\t\t\t\n",
    "# https://www.solarchoice.net.au/solar-rebates/solar-feed-in-rewards\t\t\t\n",
    "# https://www.aemo.com.au/Electricity/National-Electricity-Market-NEM/Data-dashboard#aggregated-data\t\t\t\n",
    "# Price to Sell Domestic Solar Into Grid\tEIA data\t150.00\t$/Mwah\n",
    "# Fixed Electricity Price from Grid\taverage of US\t120.00\t$/MWh\n",
    "# Maximum Feed Rate into Grid\t(How much energy can the connection export into the grid in a set time)\t1.00\tkW/hr\n",
    "\n",
    "pricetoselldomesticsolarintogrid = 150 \n",
    "fixedelectricitypricefromgrid = 120 \n",
    "maximumfeedrateintogrid = 1 "
   ]
  },
  {
   "cell_type": "code",
   "execution_count": 125,
   "metadata": {
    "collapsed": true
   },
   "outputs": [],
   "source": [
    "df['fixedpricebill'] = df['Usage'] * fixedelectricitypricefromgrid"
   ]
  },
  {
   "cell_type": "code",
   "execution_count": 126,
   "metadata": {
    "collapsed": true
   },
   "outputs": [],
   "source": [
    "df['marketpricebill'] =  df['RRP'] * df['Usage']"
   ]
  },
  {
   "cell_type": "code",
   "execution_count": 127,
   "metadata": {},
   "outputs": [
    {
     "name": "stderr",
     "output_type": "stream",
     "text": [
      "C:\\Users\\raosa\\Anaconda3\\lib\\site-packages\\ipykernel_launcher.py:8: SettingWithCopyWarning: \n",
      "A value is trying to be set on a copy of a slice from a DataFrame\n",
      "\n",
      "See the caveats in the documentation: http://pandas.pydata.org/pandas-docs/stable/indexing.html#indexing-view-versus-copy\n",
      "  \n",
      "C:\\Users\\raosa\\Anaconda3\\lib\\site-packages\\ipykernel_launcher.py:6: SettingWithCopyWarning: \n",
      "A value is trying to be set on a copy of a slice from a DataFrame\n",
      "\n",
      "See the caveats in the documentation: http://pandas.pydata.org/pandas-docs/stable/indexing.html#indexing-view-versus-copy\n",
      "  \n"
     ]
    }
   ],
   "source": [
    "\n",
    "df['renewablemarketrrp']= 0\n",
    "for i in range(0,len(df)):\n",
    "    \n",
    "    if (df['RRP'][i] > pricetoselldomesticsolarintogrid):\n",
    "        df['renewablemarketrrp'][i] = pricetoselldomesticsolarintogrid \n",
    "    else: \n",
    "        df['renewablemarketrrp'][i] = df['RRP'][i] "
   ]
  },
  {
   "cell_type": "code",
   "execution_count": 128,
   "metadata": {},
   "outputs": [],
   "source": [
    "# this is with downside risk adjusted \n",
    "df['mixed_renewable_market_price_bill_downside_risk_adjusted'] =  df['Usage'] * df['renewablemarketrrp']"
   ]
  },
  {
   "cell_type": "code",
   "execution_count": 129,
   "metadata": {},
   "outputs": [
    {
     "name": "stderr",
     "output_type": "stream",
     "text": [
      "C:\\Users\\raosa\\Anaconda3\\lib\\site-packages\\ipykernel_launcher.py:8: SettingWithCopyWarning: \n",
      "A value is trying to be set on a copy of a slice from a DataFrame\n",
      "\n",
      "See the caveats in the documentation: http://pandas.pydata.org/pandas-docs/stable/indexing.html#indexing-view-versus-copy\n",
      "  \n",
      "C:\\Users\\raosa\\Anaconda3\\lib\\site-packages\\ipykernel_launcher.py:6: SettingWithCopyWarning: \n",
      "A value is trying to be set on a copy of a slice from a DataFrame\n",
      "\n",
      "See the caveats in the documentation: http://pandas.pydata.org/pandas-docs/stable/indexing.html#indexing-view-versus-copy\n",
      "  \n"
     ]
    }
   ],
   "source": [
    "# this is with differential trading included \n",
    "df['prosumer_market_price_bill_differential_trading_included'] = 0.0 \n",
    "for i in range(0,len(df)):\n",
    "    \n",
    "    if (df['RRP'][i] > pricetoselldomesticsolarintogrid):\n",
    "        df['prosumer_market_price_bill_differential_trading_included'][i] = -df['RRP'][i] * (maximumfeedrateintogrid/(2*1000))\n",
    "    else: \n",
    "        df['prosumer_market_price_bill_differential_trading_included'][i] = df['Usage'][i] * df['renewablemarketrrp'][i] \n",
    "    "
   ]
  },
  {
   "cell_type": "code",
   "execution_count": 130,
   "metadata": {},
   "outputs": [
    {
     "data": {
      "text/html": [
       "<div>\n",
       "<style>\n",
       "    .dataframe thead tr:only-child th {\n",
       "        text-align: right;\n",
       "    }\n",
       "\n",
       "    .dataframe thead th {\n",
       "        text-align: left;\n",
       "    }\n",
       "\n",
       "    .dataframe tbody tr th {\n",
       "        vertical-align: top;\n",
       "    }\n",
       "</style>\n",
       "<table border=\"1\" class=\"dataframe\">\n",
       "  <thead>\n",
       "    <tr style=\"text-align: right;\">\n",
       "      <th></th>\n",
       "      <th>SETTLEMENTDATE</th>\n",
       "      <th>TOTALDEMAND</th>\n",
       "      <th>RRP</th>\n",
       "      <th>Usage</th>\n",
       "      <th>fixedpricebill</th>\n",
       "      <th>marketpricebill</th>\n",
       "      <th>renewablemarketrrp</th>\n",
       "      <th>mixed_renewable_market_price_bill_downside_risk_adjusted</th>\n",
       "      <th>prosumer_market_price_bill_differential_trading_included</th>\n",
       "    </tr>\n",
       "  </thead>\n",
       "  <tbody>\n",
       "    <tr>\n",
       "      <th>0</th>\n",
       "      <td>7/1/2016 0:30</td>\n",
       "      <td>1534.71</td>\n",
       "      <td>125.3</td>\n",
       "      <td>0.000117</td>\n",
       "      <td>0.01410</td>\n",
       "      <td>0.014723</td>\n",
       "      <td>125</td>\n",
       "      <td>0.014687</td>\n",
       "      <td>0.014687</td>\n",
       "    </tr>\n",
       "    <tr>\n",
       "      <th>1</th>\n",
       "      <td>7/1/2016 1:00</td>\n",
       "      <td>1415.01</td>\n",
       "      <td>127.9</td>\n",
       "      <td>0.000105</td>\n",
       "      <td>0.01260</td>\n",
       "      <td>0.013430</td>\n",
       "      <td>127</td>\n",
       "      <td>0.013335</td>\n",
       "      <td>0.013335</td>\n",
       "    </tr>\n",
       "    <tr>\n",
       "      <th>2</th>\n",
       "      <td>7/1/2016 1:30</td>\n",
       "      <td>1308.47</td>\n",
       "      <td>127.3</td>\n",
       "      <td>0.000102</td>\n",
       "      <td>0.01230</td>\n",
       "      <td>0.013048</td>\n",
       "      <td>127</td>\n",
       "      <td>0.013017</td>\n",
       "      <td>0.013017</td>\n",
       "    </tr>\n",
       "    <tr>\n",
       "      <th>3</th>\n",
       "      <td>7/1/2016 2:00</td>\n",
       "      <td>1233.06</td>\n",
       "      <td>127.1</td>\n",
       "      <td>0.000100</td>\n",
       "      <td>0.01200</td>\n",
       "      <td>0.012710</td>\n",
       "      <td>127</td>\n",
       "      <td>0.012700</td>\n",
       "      <td>0.012700</td>\n",
       "    </tr>\n",
       "    <tr>\n",
       "      <th>4</th>\n",
       "      <td>7/1/2016 2:30</td>\n",
       "      <td>1152.85</td>\n",
       "      <td>128.2</td>\n",
       "      <td>0.000099</td>\n",
       "      <td>0.01185</td>\n",
       "      <td>0.012660</td>\n",
       "      <td>128</td>\n",
       "      <td>0.012640</td>\n",
       "      <td>0.012640</td>\n",
       "    </tr>\n",
       "  </tbody>\n",
       "</table>\n",
       "</div>"
      ],
      "text/plain": [
       "  SETTLEMENTDATE  TOTALDEMAND    RRP     Usage  fixedpricebill  \\\n",
       "0  7/1/2016 0:30      1534.71  125.3  0.000117         0.01410   \n",
       "1  7/1/2016 1:00      1415.01  127.9  0.000105         0.01260   \n",
       "2  7/1/2016 1:30      1308.47  127.3  0.000102         0.01230   \n",
       "3  7/1/2016 2:00      1233.06  127.1  0.000100         0.01200   \n",
       "4  7/1/2016 2:30      1152.85  128.2  0.000099         0.01185   \n",
       "\n",
       "   marketpricebill  renewablemarketrrp  \\\n",
       "0         0.014723                 125   \n",
       "1         0.013430                 127   \n",
       "2         0.013048                 127   \n",
       "3         0.012710                 127   \n",
       "4         0.012660                 128   \n",
       "\n",
       "   mixed_renewable_market_price_bill_downside_risk_adjusted  \\\n",
       "0                                           0.014687          \n",
       "1                                           0.013335          \n",
       "2                                           0.013017          \n",
       "3                                           0.012700          \n",
       "4                                           0.012640          \n",
       "\n",
       "   prosumer_market_price_bill_differential_trading_included  \n",
       "0                                           0.014687         \n",
       "1                                           0.013335         \n",
       "2                                           0.013017         \n",
       "3                                           0.012700         \n",
       "4                                           0.012640         "
      ]
     },
     "execution_count": 130,
     "metadata": {},
     "output_type": "execute_result"
    }
   ],
   "source": [
    "df.head()"
   ]
  },
  {
   "cell_type": "markdown",
   "metadata": {
    "collapsed": true
   },
   "source": [
    "### Descriptive statistics about the Emergent Market Price Bill -  Differential Trading Included\n",
    "\n",
    "sample size\t9084\n",
    "\n",
    "sample mean\t0.008519771\n",
    "\n",
    "sample standard deviation\t0.033859073\n",
    "\n",
    "confidence level\t0.997\n",
    "\n",
    "tmultiple\t2.968539236\n",
    "\n",
    "standard error\t0.000355252\n",
    "\n",
    "lower limit\t0.007465191\n",
    "\n",
    "upper limit\t0.00957435\n"
   ]
  },
  {
   "cell_type": "markdown",
   "metadata": {},
   "source": [
    "![Daily consumption based on a 30 min increment ](daily cons.png \"Daily consumption based on a 30 min increment \")"
   ]
  },
  {
   "cell_type": "code",
   "execution_count": 133,
   "metadata": {},
   "outputs": [
    {
     "name": "stdout",
     "output_type": "stream",
     "text": [
      "SUMMARY\n",
      "====================================\n",
      "current electricity bill\n",
      "monthly bill ($): 110.21000000000008\n",
      "====================================\n",
      "Spot Market Electricity Bill - Calculated on the spot market rate for electricity\n",
      "monthly bill ($): 98.77799753349441\n",
      "savings (%): 10.37292665502736\n",
      "====================================\n",
      "Simple Renewable Market Electricity Bill with no Sell Back -Calculated on the spot market rate rate for electricity, with downside risk removed by household solar generation and storage\n",
      "monthly bill ($): 96.1345448058804\n",
      "savings (%): 12.77148642965219\n",
      "====================================\n",
      "Transactional Prosumer Market Electricity Bill -Calculated on the spot market rate rate for electricity, with the household being able to sell into the market when the price is higher than solar feed in tariff\n",
      "monthly bill ($): 38.94403943362382\n",
      "savings (%): 64.66378782903203\n",
      "====================================\n"
     ]
    }
   ],
   "source": [
    "# This simple model for an annual electricity bill is based on:\n",
    "# The consumption profile of a household over an entire year in 30 minutre increments, with a discount factor of approximately 50% on energy consumption\n",
    "# Actual pricing data from the US for the 2001-2017\n",
    "\n",
    "print('SUMMARY')\n",
    "print('====================================')\n",
    "\n",
    "ratio = 0.507947481521178\n",
    "\n",
    "\n",
    "print('current electricity bill')\n",
    "# Calculated on the current tariff rate for electricity\n",
    "current_monthlybill = (np.sum(df['fixedpricebill']) * ratio )\n",
    "print('monthly bill ($): ' + str(current_monthlybill))\n",
    "print('====================================')\n",
    "\n",
    "print('Spot Market Electricity Bill - Calculated on the spot market rate for electricity')\n",
    "spot_monthlybill = np.sum(df['marketpricebill']) * ratio\n",
    "print('monthly bill ($): ' + str(spot_monthlybill))\n",
    "spot_savings = (1 - (spot_monthlybill / current_monthlybill)) * 100 \n",
    "print('savings (%): ' + str(spot_savings)  )\n",
    "print('====================================')\n",
    "\n",
    "\n",
    "\n",
    "print('Simple Renewable Market Electricity Bill with no Sell Back -Calculated on the spot market rate rate for electricity, with downside risk removed by household solar generation and storage')\n",
    "simple_monthlybill = np.sum(df['mixed_renewable_market_price_bill_downside_risk_adjusted']) * ratio\n",
    "print('monthly bill ($): ' + str(simple_monthlybill))\n",
    "simple_savings = (1 - (simple_monthlybill / current_monthlybill)) * 100 \n",
    "print('savings (%): ' + str(simple_savings)  )\n",
    "print('====================================')\n",
    "\n",
    "\n",
    "\n",
    "print('Transactional Prosumer Market Electricity Bill -Calculated on the spot market rate rate for electricity, with the household being able to sell into the market when the price is higher than solar feed in tariff')\n",
    "trans_monthlybill = np.sum(df['prosumer_market_price_bill_differential_trading_included']) * ratio\n",
    "print('monthly bill ($): ' + str(trans_monthlybill))\n",
    "trans_savings = (1 - (trans_monthlybill / current_monthlybill)) * 100 \n",
    "print('savings (%): ' + str(trans_savings)  )\n",
    "print('====================================')\n",
    "\n",
    "\n",
    "\n"
   ]
  },
  {
   "cell_type": "code",
   "execution_count": null,
   "metadata": {
    "collapsed": true
   },
   "outputs": [],
   "source": []
  },
  {
   "cell_type": "code",
   "execution_count": null,
   "metadata": {
    "collapsed": true
   },
   "outputs": [],
   "source": []
  }
 ],
 "metadata": {
  "kernelspec": {
   "display_name": "Python 3",
   "language": "python",
   "name": "python3"
  },
  "language_info": {
   "codemirror_mode": {
    "name": "ipython",
    "version": 3
   },
   "file_extension": ".py",
   "mimetype": "text/x-python",
   "name": "python",
   "nbconvert_exporter": "python",
   "pygments_lexer": "ipython3",
   "version": "3.6.1"
  }
 },
 "nbformat": 4,
 "nbformat_minor": 2
}
